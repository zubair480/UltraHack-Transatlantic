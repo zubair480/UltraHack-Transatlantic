{
 "cells": [
  {
   "cell_type": "code",
   "execution_count": null,
   "id": "bbf1c97a",
   "metadata": {},
   "outputs": [],
   "source": [
    "import pandas"
   ]
  },
  {
   "cell_type": "code",
   "execution_count": null,
   "id": "22955c29",
   "metadata": {},
   "outputs": [],
   "source": [
    "import os\n",
    "os.getcwd()"
   ]
  },
  {
   "cell_type": "code",
   "execution_count": null,
   "id": "945b4244",
   "metadata": {},
   "outputs": [],
   "source": [
    "%cd E:\\Hackathan Materials\\Ultrahack Industrial Hackathon\\Yolov8\\ultralytics"
   ]
  },
  {
   "cell_type": "code",
   "execution_count": null,
   "id": "30ff54cf",
   "metadata": {},
   "outputs": [],
   "source": [
    "!pip install -r requirements.txt"
   ]
  },
  {
   "cell_type": "code",
   "execution_count": null,
   "id": "8674f9b5",
   "metadata": {},
   "outputs": [],
   "source": []
  },
  {
   "cell_type": "code",
   "execution_count": null,
   "id": "95cb9154",
   "metadata": {},
   "outputs": [],
   "source": [
    "from ultralytics import YOLO\n",
    "import cv2\n",
    "import math\n",
    "cap=cv2.VideoCapture(0)\n",
    "\n",
    "frame_width=int(cap.get(3))\n",
    "frame_height = int(cap.get(4))\n",
    "\n",
    "out=cv2.VideoWriter('output.avi', cv2.VideoWriter_fourcc('M', 'J', 'P', 'G'), 10, (frame_width, frame_height))\n",
    "\n",
    "model=YOLO(\"E:/Hackathan Materials/UltraHack_PPE_Model.pt\")\n",
    "#model=YOLO(\"../YOLO-Weights/yolov8n.pt\")\n",
    "classNames = [\"person\",\"vest\",\"blue helmet\",\"red helmet\",\"white helmet\",\"yellow helmet\" ]\n",
    "while True:\n",
    "    success, img = cap.read()\n",
    "    # Doing detections using YOLOv8 frame by frame\n",
    "    #stream = True will use the generator and it is more efficient than normal\n",
    "    results=model(img,stream=True)\n",
    "    #Once we have the results we can check for individual bounding boxes and see how well it performs\n",
    "    # Once we have have the results we will loop through them and we will have the bouning boxes for each of the result\n",
    "    # we will loop through each of the bouning box\n",
    "    for r in results:\n",
    "        boxes=r.boxes\n",
    "        for box in boxes:\n",
    "            x1,y1,x2,y2=box.xyxy[0]\n",
    "            #print(x1, y1, x2, y2)\n",
    "            x1,y1,x2,y2=int(x1), int(y1), int(x2), int(y2)\n",
    "            print(x1,y1,x2,y2)\n",
    "            cv2.rectangle(img, (x1,y1), (x2,y2), (255,0,255),3)\n",
    "            #print(box.conf[0])\n",
    "            conf=math.ceil((box.conf[0]*100))/100\n",
    "            cls=int(box.cls[0])\n",
    "            class_name=classNames[cls]\n",
    "            label=f'{class_name}{conf}'\n",
    "            t_size = cv2.getTextSize(label, 0, fontScale=1, thickness=2)[0]\n",
    "            #print(t_size)\n",
    "            c2 = x1 + t_size[0], y1 - t_size[1] - 3\n",
    "            cv2.rectangle(img, (x1,y1), c2, [255,0,255], -1, cv2.LINE_AA)  # filled\n",
    "            cv2.putText(img, label, (x1,y1-2),0, 1,[255,255,255], thickness=1,lineType=cv2.LINE_AA)\n",
    "    out.write(img)\n",
    "    cv2.imshow(\"Image\", img)\n",
    "    if cv2.waitKey(1) & 0xFF==ord('1'):\n",
    "        break\n",
    "out.release()"
   ]
  },
  {
   "cell_type": "code",
   "execution_count": null,
   "id": "2eeb861e",
   "metadata": {},
   "outputs": [],
   "source": []
  }
 ],
 "metadata": {
  "kernelspec": {
   "display_name": "Python 3 (ipykernel)",
   "language": "python",
   "name": "python3"
  },
  "language_info": {
   "codemirror_mode": {
    "name": "ipython",
    "version": 3
   },
   "file_extension": ".py",
   "mimetype": "text/x-python",
   "name": "python",
   "nbconvert_exporter": "python",
   "pygments_lexer": "ipython3",
   "version": "3.11.3"
  }
 },
 "nbformat": 4,
 "nbformat_minor": 5
}
